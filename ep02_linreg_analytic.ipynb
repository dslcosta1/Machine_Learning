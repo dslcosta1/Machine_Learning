{
  "nbformat": 4,
  "nbformat_minor": 0,
  "metadata": {
    "kernelspec": {
      "display_name": "Python 3",
      "language": "python",
      "name": "python3"
    },
    "language_info": {
      "codemirror_mode": {
        "name": "ipython",
        "version": 3
      },
      "file_extension": ".py",
      "mimetype": "text/x-python",
      "name": "python",
      "nbconvert_exporter": "python",
      "pygments_lexer": "ipython3",
      "version": "3.6.9"
    },
    "colab": {
      "name": "ep02_linreg_analytic.ipynb",
      "provenance": [],
      "toc_visible": true,
      "include_colab_link": true
    }
  },
  "cells": [
    {
      "cell_type": "markdown",
      "metadata": {
        "id": "view-in-github",
        "colab_type": "text"
      },
      "source": [
        "<a href=\"https://colab.research.google.com/github/dslcosta1/Machine_Learning/blob/main/ep02_linreg_analytic.ipynb\" target=\"_parent\"><img src=\"https://colab.research.google.com/assets/colab-badge.svg\" alt=\"Open In Colab\"/></a>"
      ]
    },
    {
      "cell_type": "code",
      "metadata": {
        "id": "OjeWX1IJsH3j",
        "colab": {
          "base_uri": "https://localhost:8080/"
        },
        "outputId": "18f67799-b318-48f5-e131-30f050ffa7f8"
      },
      "source": [
        "name = \"Daniel Silva Lopes da Costa\"  # write YOUR NAME\n",
        "\n",
        "honorPledge = \"I affirm that I have not given or received any unauthorized \" \\\n",
        "              \"help on this assignment, and that this work is my own.\\n\"\n",
        "\n",
        "\n",
        "print(\"\\nName: \", name)\n",
        "print(\"\\nHonor pledge: \", honorPledge)"
      ],
      "execution_count": 1,
      "outputs": [
        {
          "output_type": "stream",
          "text": [
            "\n",
            "Name:  Daniel Silva Lopes da Costa\n",
            "\n",
            "Honor pledge:  I affirm that I have not given or received any unauthorized help on this assignment, and that this work is my own.\n",
            "\n"
          ],
          "name": "stdout"
        }
      ]
    },
    {
      "cell_type": "markdown",
      "metadata": {
        "id": "-xcfvws2sH3t"
      },
      "source": [
        "# MAC0460 / MAC5832 (2021)\n",
        "<hr>\n",
        "\n",
        "# EP2: Linear regression - analytic solution\n",
        "\n",
        "### Objectives:\n",
        "\n",
        "- to implement and test the analytic solution for the linear regression task (see, for instance, <a href=\"http://work.caltech.edu/slides/slides03.pdf\">Slides of Lecture 03</a> and Lecture 03 of *Learning from Data*)\n",
        "- to understand the core idea (*optimization of a loss or cost function*) for parameter adjustment in machine learning\n",
        "<hr>"
      ]
    },
    {
      "cell_type": "markdown",
      "metadata": {
        "id": "cMc1PnwFsH3v"
      },
      "source": [
        "# Linear regression\n",
        "\n",
        "Given a dataset $\\{(\\mathbf{x}^{(1)}, y^{(1)}), \\dots ,(\\mathbf{x}^{(N)}, y^{(N)})\\}$ with $\\mathbf{x}^{(i)} \\in \\mathbb{R}^{d}$ and $y^{(i)} \\in \\mathbb{R}$, we would like to approximate the unknown function $f:\\mathbb{R}^{d} \\rightarrow \\mathbb{R}$ (recall that $y^{(i)} =f(\\mathbf{x}^{(i)})$) by means of a linear model $h$:\n",
        "$$\n",
        "h(\\mathbf{x}^{(i)}; \\mathbf{w}, b) = \\mathbf{w}^\\top  \\mathbf{x}^{(i)} + b\n",
        "$$\n",
        "\n",
        "Note that $h(\\mathbf{x}^{(i)}; \\mathbf{w}, b)$ is, in fact, an  [affine transformation](https://en.wikipedia.org/wiki/Affine_transformation) of  $\\mathbf{x}^{(i)}$. As commonly done, we will use the term \"linear\" to refer to an affine transformation.\n",
        "\n",
        "The output of $h$ is a linear transformation of $\\mathbf{x}^{(i)}$. We use the notation $h(\\mathbf{x}^{(i)}; \\mathbf{w}, b)$ to make clear that $h$ is a parametric model, i.e., the transformation $h$ is defined  by the parameters $\\mathbf{w}$ and $b$. We can view vector $\\mathbf{w}$ as a *weight* vector that controls the effect of each *feature* in the prediction.\n",
        "\n",
        "By adding one component with value equal to 1 to the observations $\\mathbf{x}$ (an artificial coordinate), we have:\n",
        "\n",
        "$$\\tilde{\\mathbf{x}} = (1, x_1, \\ldots, x_d) \\in \\mathbb{R}^{1+d}$$\n",
        "\n",
        "and then we can simplify the notation:\n",
        "$$\n",
        "h(\\mathbf{x}^{(i)}; \\mathbf{w}) = \\hat{y}^{(i)} = \\mathbf{w}^\\top  \\tilde{\\mathbf{x}}^{(i)}\n",
        "$$\n",
        "\n",
        "We would like to determine the optimal parameters $\\mathbf{w}$ such that prediction $\\hat{y}^{(i)}$ is as closest as possible to $y^{(i)}$ according to some error metric. Adopting the *mean square error* as such metric we have the following cost function:\n",
        "\n",
        "\\begin{equation}\n",
        "J(\\mathbf{w}) = \\frac{1}{N}\\sum_{i=1}^{N}\\big(\\hat{y}^{(i)} - y^{(i)}\\big)^{2}\n",
        "\\end{equation}\n",
        "\n",
        "Thus, the task of determining a function $h$ that is closest to $f$ is reduced to the task of finding the values $\\mathbf{w}$ that minimize $J(\\mathbf{w})$.\n",
        "\n",
        "**Now we will explore this model, starting with a simple dataset.**\n"
      ]
    },
    {
      "cell_type": "markdown",
      "metadata": {
        "id": "XwGRH_N7sH3w"
      },
      "source": [
        "### Auxiliary functions"
      ]
    },
    {
      "cell_type": "code",
      "metadata": {
        "id": "olCJcCxKsH3w"
      },
      "source": [
        "# some imports\n",
        "import numpy as np\n",
        "import time\n",
        "import matplotlib.pyplot as plt\n",
        "\n",
        "%matplotlib inline"
      ],
      "execution_count": 2,
      "outputs": []
    },
    {
      "cell_type": "code",
      "metadata": {
        "id": "EUrzgn8PsH3x"
      },
      "source": [
        "# An auxiliary function\n",
        "def get_housing_prices_data(N, verbose=True):\n",
        "    \"\"\"\n",
        "    Generates artificial linear data,\n",
        "    where x = square meter, y = house price\n",
        "\n",
        "    :param N: data set size\n",
        "    :type N: int\n",
        "    \n",
        "    :param verbose: param to control print\n",
        "    :type verbose: bool\n",
        "    :return: design matrix, regression targets\n",
        "    :rtype: np.array, np.array\n",
        "    \"\"\"\n",
        "    cond = False\n",
        "    while not cond:\n",
        "        x = np.linspace(90, 1200, N)\n",
        "        gamma = np.random.normal(30, 10, x.size)\n",
        "        y = 50 * x + gamma * 400\n",
        "        x = x.astype(\"float32\")\n",
        "        x = x.reshape((x.shape[0], 1))\n",
        "        y = y.astype(\"float32\")\n",
        "        y = y.reshape((y.shape[0], 1))\n",
        "        cond = min(y) > 0\n",
        "        \n",
        "    xmean, xsdt, xmax, xmin = np.mean(x), np.std(x), np.max(x), np.min(x)\n",
        "    ymean, ysdt, ymax, ymin = np.mean(y), np.std(y), np.max(y), np.min(y)\n",
        "    if verbose:\n",
        "        print(\"\\nX shape = {}\".format(x.shape))\n",
        "        print(\"y shape = {}\\n\".format(y.shape))\n",
        "        print(\"X: mean {}, sdt {:.2f}, max {:.2f}, min {:.2f}\".format(xmean,\n",
        "                                                               xsdt,\n",
        "                                                               xmax,\n",
        "                                                               xmin))\n",
        "        print(\"y: mean {:.2f}, sdt {:.2f}, max {:.2f}, min {:.2f}\".format(ymean,\n",
        "                                                                 ysdt,\n",
        "                                                                 ymax,\n",
        "                                                                 ymin))\n",
        "    return x, y"
      ],
      "execution_count": 3,
      "outputs": []
    },
    {
      "cell_type": "code",
      "metadata": {
        "id": "efxu54DDsH3y"
      },
      "source": [
        "# Another auxiliary function\n",
        "def plot_points_regression(x,\n",
        "                           y,\n",
        "                           title,\n",
        "                           xlabel,\n",
        "                           ylabel,\n",
        "                           prediction=None,\n",
        "                           legend=False,\n",
        "                           r_squared=None,\n",
        "                           position=(90, 100)):\n",
        "    \"\"\"\n",
        "    Plots the data points and the prediction,\n",
        "    if there is one.\n",
        "\n",
        "    :param x: design matrix\n",
        "    :type x: np.array\n",
        "    :param y: regression targets\n",
        "    :type y: np.array\n",
        "    :param title: plot's title\n",
        "    :type title: str\n",
        "    :param xlabel: x axis label\n",
        "    :type xlabel: str\n",
        "    :param ylabel: y axis label\n",
        "    :type ylabel: str\n",
        "    :param prediction: model's prediction\n",
        "    :type prediction: np.array\n",
        "    :param legend: param to control print legends\n",
        "    :type legend: bool\n",
        "    :param r_squared: r^2 value\n",
        "    :type r_squared: float\n",
        "    :param position: text position\n",
        "    :type position: tuple\n",
        "    \"\"\"\n",
        "    fig, ax = plt.subplots(1, 1, figsize=(8, 8))\n",
        "    line1, = ax.plot(x, y, 'bo', label='Real data')\n",
        "    if prediction is not None:\n",
        "        line2, = ax.plot(x, prediction, 'r', label='Predicted data')\n",
        "        if legend:\n",
        "            plt.legend(handles=[line1, line2], loc=2)\n",
        "        ax.set_title(title,\n",
        "                 fontsize=20,\n",
        "                 fontweight='bold')\n",
        "    if r_squared is not None:\n",
        "        bbox_props = dict(boxstyle=\"square,pad=0.3\",\n",
        "                          fc=\"white\", ec=\"black\", lw=0.2)\n",
        "        t = ax.text(position[0], position[1], \"$R^2 ={:.4f}$\".format(r_squared),\n",
        "                    size=15, bbox=bbox_props)\n",
        "\n",
        "    ax.set_xlabel(xlabel, fontsize=20)\n",
        "    ax.set_ylabel(ylabel, fontsize=20)\n",
        "    plt.show()\n"
      ],
      "execution_count": 5,
      "outputs": []
    },
    {
      "cell_type": "markdown",
      "metadata": {
        "id": "BjiC9uJ_sH3z"
      },
      "source": [
        "### The dataset \n",
        "\n",
        "The first dataset we will use is a toy dataset. We will generate $N=100$ observations with only one *feature* and a real value associated to each of them. We can view these observations as being pairs *(area of a real state in square meters, price of the real state)*. Our task is to construct a model that is able to predict the price of a real state, given its area."
      ]
    },
    {
      "cell_type": "code",
      "metadata": {
        "colab": {
          "base_uri": "https://localhost:8080/"
        },
        "id": "bXEMEncUsH30",
        "outputId": "8cd44625-ac47-459d-d851-001bd69f4b51"
      },
      "source": [
        "X, y = get_housing_prices_data(N=100)"
      ],
      "execution_count": 41,
      "outputs": [
        {
          "output_type": "stream",
          "text": [
            "\n",
            "X shape = (100, 1)\n",
            "y shape = (100, 1)\n",
            "\n",
            "X: mean 645.0, sdt 323.65, max 1200.00, min 90.00\n",
            "y: mean 44003.19, sdt 17195.94, max 79998.91, min 5441.34\n"
          ],
          "name": "stdout"
        }
      ]
    },
    {
      "cell_type": "markdown",
      "metadata": {
        "id": "XxZSa-g1sH30"
      },
      "source": [
        "### Ploting the data"
      ]
    },
    {
      "cell_type": "code",
      "metadata": {
        "colab": {
          "base_uri": "https://localhost:8080/",
          "height": 506
        },
        "id": "o80aaT7GsH31",
        "outputId": "4adcb4af-cc0e-402d-d671-ced0d0e812a6"
      },
      "source": [
        "plot_points_regression(X,\n",
        "                       y,\n",
        "                       title='Real estate prices prediction',\n",
        "                       xlabel=\"m\\u00b2\",\n",
        "                       ylabel='$')"
      ],
      "execution_count": 42,
      "outputs": [
        {
          "output_type": "display_data",
          "data": {
            "image/png": "[encoded data removed]",
            "text/plain": [
              "<Figure size 576x576 with 1 Axes>"
            ]
          },
          "metadata": {
            "tags": [],
            "needs_background": "light"
          }
        }
      ]
    },
    {
      "cell_type": "markdown",
      "metadata": {
        "id": "UV7CrBcksH31"
      },
      "source": [
        "### The solution\n",
        "\n",
        "Given $f:\\mathbb{R}^{N\\times M} \\rightarrow \\mathbb{R}$ and $\\mathbf{A} \\in \\mathbb{R}^{N\\times M}$, we define the gradient of $f$ with respect to $\\mathbf{A}$ as:\n",
        "\n",
        "\\begin{equation*}\n",
        "\\nabla_{\\mathbf{A}}f = \\frac{\\partial f}{\\partial \\mathbf{A}} =  \\begin{bmatrix}\n",
        "\\frac{\\partial f}{\\partial \\mathbf{A}_{1,1}} & \\dots & \\frac{\\partial f}{\\partial \\mathbf{A}_{1,m}} \\\\\n",
        "\\vdots &  \\ddots & \\vdots \\\\\n",
        "\\frac{\\partial f}{\\partial \\mathbf{A}_{n,1}} &  \\dots & \\frac{\\partial f}{\\partial \\mathbf{A}_{n,m}}\n",
        "\\end{bmatrix}\n",
        "\\end{equation*}\n",
        "\n",
        "Let $\\mathbf{X} \\in \\mathbb{R}^{N\\times d}$ be a matrix (sometimes also called the *design matrix*) whose rows are the observations of the dataset and let $\\mathbf{y} \\in \\mathbb{R}^{N}$ be the vector consisting of all values $y^{(i)}$ (i.e., $\\mathbf{X}^{(i,:)} = \\mathbf{x}^{(i)}$ and $\\mathbf{y}^{(i)} = y^{(i)}$). It can be verified that: \n",
        "\n",
        "\\begin{equation}\n",
        "J(\\mathbf{w}) = \\frac{1}{N}(\\mathbf{X}\\mathbf{w} - \\mathbf{y})^{T}(\\mathbf{X}\\mathbf{w} - \\mathbf{y})\n",
        "\\end{equation}\n",
        "\n",
        "Using basic matrix derivative concepts we can compute the gradient of $J(\\mathbf{w})$ with respect to $\\mathbf{w}$:\n",
        "\n",
        "\\begin{equation}\n",
        "\\nabla_{\\mathbf{w}}J(\\mathbf{w}) = \\frac{2}{N} (\\mathbf{X}^{T}\\mathbf{X}\\mathbf{w} -\\mathbf{X}^{T}\\mathbf{y})   \n",
        "\\end{equation}\n",
        "\n",
        "Thus, when $\\nabla_{\\mathbf{w}}J(\\mathbf{w}) = 0$ we have \n",
        "\n",
        "\\begin{equation}\n",
        "\\mathbf{X}^{T}\\mathbf{X}\\mathbf{w} = \\mathbf{X}^{T}\\mathbf{y}\n",
        "\\end{equation}\n",
        "\n",
        "Hence,\n",
        "\n",
        "\\begin{equation}\n",
        "\\mathbf{w} = (\\mathbf{X}^{T}\\mathbf{X})^{-1}\\mathbf{X}^{T}\\mathbf{y}\n",
        "\\end{equation}\n",
        "\n",
        "Note that this solution has a high computational cost. As the number of variables (*features*) increases, the cost for matrix inversion becomes prohibitive. See  [this text](https://sgfin.github.io/files/notes/CS229_Lecture_Notes.pdf) for more details."
      ]
    },
    {
      "cell_type": "markdown",
      "metadata": {
        "id": "XcGEymHfsH32"
      },
      "source": [
        "# <mark>Exercise 1</mark>\n",
        "Using only **NumPy** (a quick introduction to this library can be found  [here](http://cs231n.github.io/python-numpy-tutorial/)), complete the two functions below. Recall that $\\mathbf{X} \\in \\mathbb{R}^{N\\times d}$; thus you will need to add a component of value 1 to each of  the observations in $\\mathbf{X}$ before performing the computation described above.\n",
        "\n",
        "NOTE: Although the dataset above has data of dimension $d=1$, your code must be generic (it should work for $d\\geq1$)"
      ]
    },
    {
      "cell_type": "markdown",
      "metadata": {
        "id": "pIrWrBb2sH32"
      },
      "source": [
        "## <mark>1.1. Weight computation function</mark>"
      ]
    },
    {
      "cell_type": "code",
      "metadata": {
        "id": "Hl6ZdtppsH33"
      },
      "source": [
        "def normal_equation_weights(X, y):\n",
        "    \"\"\"\n",
        "    Calculates the weights of a linear function using the normal equation method.\n",
        "    You should add into X a new column with 1s.\n",
        "\n",
        "    :param X: design matrix\n",
        "    :type X: np.ndarray(shape=(N, d))\n",
        "    :param y: regression targets\n",
        "    :type y: np.ndarray(shape=(N, 1))\n",
        "    :return: weight vector\n",
        "    :rtype: np.ndarray(shape=(d+1, 1))\n",
        "    \"\"\"\n",
        "    \n",
        "    # START OF YOUR CODE:\n",
        "    X = np.hstack(( np.ones((X.shape[0],1)), X ) )\n",
        "    #print(X.T)\n",
        "    Xt = np.linalg.inv(np.dot(X.T, X))\n",
        "    w = np.dot(np.dot(Xt, X.T), y)\n",
        "    return w\n",
        "    raise NotImplementedError(\"Function normal_equation_weights() is not implemented\")\n",
        "    # END OF YOUR CODE\n",
        "    "
      ],
      "execution_count": 9,
      "outputs": []
    },
    {
      "cell_type": "code",
      "metadata": {
        "id": "QE5rElMIsH34",
        "colab": {
          "base_uri": "https://localhost:8080/"
        },
        "outputId": "d5813e39-1def-463e-d0c3-72bd98026568"
      },
      "source": [
        "# test of function normal_equation_weights()\n",
        "\n",
        "w = 0  # this is not necessary\n",
        "w = normal_equation_weights(X, y)\n",
        "print(\"Estimated w =\\n\", w)"
      ],
      "execution_count": 43,
      "outputs": [
        {
          "output_type": "stream",
          "text": [
            "Estimated w =\n",
            " [[10804.41058626]\n",
            " [   51.47097573]]\n"
          ],
          "name": "stdout"
        }
      ]
    },
    {
      "cell_type": "markdown",
      "metadata": {
        "id": "sDA_TMx7sH34"
      },
      "source": [
        "## <mark>1.2. Prediction function</mark>"
      ]
    },
    {
      "cell_type": "code",
      "metadata": {
        "id": "-qAgJv1jsH34"
      },
      "source": [
        "def normal_equation_prediction(X, w):\n",
        "    \"\"\"\n",
        "    Calculates the prediction over a set of observations X using the linear function\n",
        "    characterized by the weight vector w.\n",
        "    You should add into X a new column with 1s.\n",
        "\n",
        "    :param X: design matrix\n",
        "    :type X: np.ndarray(shape=(N, d))\n",
        "    :param w: weight vector\n",
        "    :type w: np.ndarray(shape=(d+1, 1))\n",
        "    :param y: regression prediction\n",
        "    :type y: np.ndarray(shape=(N, 1))\n",
        "    \"\"\"\n",
        "    \n",
        "    # START OF YOUR CODE:\n",
        "    X = np.hstack(( np.ones((X.shape[0],1)), X ) )\n",
        "    Y = np.dot(X, w)\n",
        "    return Y\n",
        "    raise NotImplementedError(\"Function normal_equation_prediction() is not implemented\")\n",
        "    # END OF YOUR CODE\n"
      ],
      "execution_count": 11,
      "outputs": []
    },
    {
      "cell_type": "markdown",
      "metadata": {
        "id": "LxkNeM9tsH35"
      },
      "source": [
        "## <mark>1.3. Coefficient of determination</mark>\n",
        "We can use the [$R^2$](https://pt.wikipedia.org/wiki/R%C2%B2) metric (Coefficient of determination) to evaluate how well the linear model fits the data.\n",
        "\n",
        "**Which $𝑅^2$ value would you expect to observe ?**"
      ]
    },
    {
      "cell_type": "code",
      "metadata": {
        "id": "NFHRdDMCsH35",
        "colab": {
          "base_uri": "https://localhost:8080/",
          "height": 527
        },
        "outputId": "84d0ae1c-12eb-4f47-eb86-c48075aa9b67"
      },
      "source": [
        "from sklearn.metrics import r2_score\n",
        "\n",
        "# test of function normal_equation_prediction()\n",
        "prediction = normal_equation_prediction(X, w)\n",
        "\n",
        "# compute the R2 score using the r2_score function from sklearn\n",
        "# Replace 0 with an appropriate call of the function\n",
        "\n",
        "# START OF YOUR CODE:\n",
        "r_2 = r2_score(y, prediction)\n",
        "# END OF YOUR CODE\n",
        "\n",
        "plot_points_regression(X,\n",
        "                       y,\n",
        "                       title='Real estate prices prediction',\n",
        "                       xlabel=\"m\\u00b2\",\n",
        "                       ylabel='$',\n",
        "                       prediction=prediction,\n",
        "                       legend=True,\n",
        "                       r_squared=r_2)"
      ],
      "execution_count": 44,
      "outputs": [
        {
          "output_type": "display_data",
          "data": {
            "image/png": "[encoded data removed]",
            "text/plain": [
              "<Figure size 576x576 with 1 Axes>"
            ]
          },
          "metadata": {
            "tags": [],
            "needs_background": "light"
          }
        }
      ]
    },
    {
      "cell_type": "markdown",
      "metadata": {
        "id": "mDEpysYhsH36"
      },
      "source": [
        "## Additional tests\n",
        "\n",
        "Let us compute a prediction for $x=650$\n"
      ]
    },
    {
      "cell_type": "code",
      "metadata": {
        "id": "G_FrMex0sH36",
        "colab": {
          "base_uri": "https://localhost:8080/"
        },
        "outputId": "38c455f0-7940-40ca-aea9-6ed6c8fb1b41"
      },
      "source": [
        "# Let us use the prediction function\n",
        "x = np.asarray([650]).reshape(1,1)\n",
        "prediction = normal_equation_prediction(x, w)\n",
        "print(\"Area = %.2f  Predicted price = %.4f\" %(x[0], prediction))"
      ],
      "execution_count": 45,
      "outputs": [
        {
          "output_type": "stream",
          "text": [
            "Area = 650.00  Predicted price = 44260.5448\n"
          ],
          "name": "stdout"
        }
      ]
    },
    {
      "cell_type": "markdown",
      "metadata": {
        "id": "C7jFAxHosH36"
      },
      "source": [
        "## <mark>1.4. Processing time</mark>\n",
        "\n",
        "Experiment with different nummber of samples $N$ and observe how processing time varies.\n",
        "\n",
        "Be careful not to use a too large value; it may make jupyter freeze ..."
      ]
    },
    {
      "cell_type": "code",
      "metadata": {
        "id": "Y6vJsQW8sH37",
        "colab": {
          "base_uri": "https://localhost:8080/"
        },
        "outputId": "e611e31e-9d08-48f0-b8cb-59b9b980a5a0"
      },
      "source": [
        "# Add other values for N\n",
        "# START OF YOUR CODE:\n",
        "N = [1600] \n",
        "# END OF YOUR CODE\n",
        "\n",
        "for i in N:\n",
        "    X, y = get_housing_prices_data(N=i)\n",
        "    init = time.time()\n",
        "    w = normal_equation_weights(X, y)\n",
        "    prediction = normal_equation_prediction(X,w)\n",
        "    init = time.time() - init\n",
        "    \n",
        "    print(\"\\nExecution time = {:.8f}(s)\\n\".format(init))\n",
        "\n",
        "\n",
        "# Tempos de algumas análises:\n",
        "# N       Tempo(s)\n",
        "# 100     0.00376582\n",
        "# 200     0.00273514\n",
        "# 400     0.00603080\n",
        "# 800     0.00363159\n",
        "# 1600    0.00614405\n"
      ],
      "execution_count": 49,
      "outputs": [
        {
          "output_type": "stream",
          "text": [
            "\n",
            "X shape = (1600, 1)\n",
            "y shape = (1600, 1)\n",
            "\n",
            "X: mean 645.0, sdt 320.63, max 1200.00, min 90.00\n",
            "y: mean 44313.57, sdt 16460.92, max 81999.68, min 7103.05\n",
            "\n",
            "Execution time = 0.00114775(s)\n",
            "\n"
          ],
          "name": "stdout"
        }
      ]
    },
    {
      "cell_type": "markdown",
      "metadata": {
        "id": "D4U1GyhmsH37"
      },
      "source": [
        "# <mark>Exercise 2</mark>\n",
        "\n",
        "Let us test the code with $𝑑>1$. \n",
        "We will use the data we have collected in our first class. The [file](https://edisciplinas.usp.br/pluginfile.php/5982803/course/section/6115454/QT1data.csv) can be found on e-disciplinas. \n",
        "\n",
        "Let us try to predict the weight based on one or more features."
      ]
    },
    {
      "cell_type": "code",
      "metadata": {
        "id": "VCg1Lu1tsH37",
        "colab": {
          "base_uri": "https://localhost:8080/",
          "height": 204
        },
        "outputId": "c4dc35e8-a3e4-44f5-c643-ca8a9dd32727"
      },
      "source": [
        "import pandas as pd\n",
        "\n",
        "# load the dataset\n",
        "df = pd.read_csv('QT1data.csv')\n",
        "df.head()"
      ],
      "execution_count": null,
      "outputs": [
        {
          "output_type": "execute_result",
          "data": {
            "text/html": [
              "<div>\n",
              "<style scoped>\n",
              "    .dataframe tbody tr th:only-of-type {\n",
              "        vertical-align: middle;\n",
              "    }\n",
              "\n",
              "    .dataframe tbody tr th {\n",
              "        vertical-align: top;\n",
              "    }\n",
              "\n",
              "    .dataframe thead th {\n",
              "        text-align: right;\n",
              "    }\n",
              "</style>\n",
              "<table border=\"1\" class=\"dataframe\">\n",
              "  <thead>\n",
              "    <tr style=\"text-align: right;\">\n",
              "      <th></th>\n",
              "      <th>Sex</th>\n",
              "      <th>Age</th>\n",
              "      <th>Height</th>\n",
              "      <th>Weight</th>\n",
              "      <th>Shoe number</th>\n",
              "      <th>Trouser number</th>\n",
              "    </tr>\n",
              "  </thead>\n",
              "  <tbody>\n",
              "    <tr>\n",
              "      <th>0</th>\n",
              "      <td>Female</td>\n",
              "      <td>53</td>\n",
              "      <td>154</td>\n",
              "      <td>59</td>\n",
              "      <td>36</td>\n",
              "      <td>40</td>\n",
              "    </tr>\n",
              "    <tr>\n",
              "      <th>1</th>\n",
              "      <td>Male</td>\n",
              "      <td>23</td>\n",
              "      <td>170</td>\n",
              "      <td>56</td>\n",
              "      <td>40</td>\n",
              "      <td>38</td>\n",
              "    </tr>\n",
              "    <tr>\n",
              "      <th>2</th>\n",
              "      <td>Female</td>\n",
              "      <td>23</td>\n",
              "      <td>167</td>\n",
              "      <td>63</td>\n",
              "      <td>37</td>\n",
              "      <td>40</td>\n",
              "    </tr>\n",
              "    <tr>\n",
              "      <th>3</th>\n",
              "      <td>Male</td>\n",
              "      <td>21</td>\n",
              "      <td>178</td>\n",
              "      <td>78</td>\n",
              "      <td>40</td>\n",
              "      <td>40</td>\n",
              "    </tr>\n",
              "    <tr>\n",
              "      <th>4</th>\n",
              "      <td>Female</td>\n",
              "      <td>25</td>\n",
              "      <td>153</td>\n",
              "      <td>58</td>\n",
              "      <td>36</td>\n",
              "      <td>38</td>\n",
              "    </tr>\n",
              "  </tbody>\n",
              "</table>\n",
              "</div>"
            ],
            "text/plain": [
              "      Sex  Age  Height  Weight  Shoe number Trouser number\n",
              "0  Female   53     154      59           36             40\n",
              "1    Male   23     170      56           40             38\n",
              "2  Female   23     167      63           37             40\n",
              "3    Male   21     178      78           40             40\n",
              "4  Female   25     153      58           36             38"
            ]
          },
          "metadata": {
            "tags": []
          },
          "execution_count": 14
        }
      ]
    },
    {
      "cell_type": "code",
      "metadata": {
        "id": "y4L7aGY0sH38",
        "colab": {
          "base_uri": "https://localhost:8080/",
          "height": 297
        },
        "outputId": "62fda0a8-4172-4e24-ebf5-92819fec5e9d"
      },
      "source": [
        "df.describe()"
      ],
      "execution_count": null,
      "outputs": [
        {
          "output_type": "execute_result",
          "data": {
            "text/html": [
              "<div>\n",
              "<style scoped>\n",
              "    .dataframe tbody tr th:only-of-type {\n",
              "        vertical-align: middle;\n",
              "    }\n",
              "\n",
              "    .dataframe tbody tr th {\n",
              "        vertical-align: top;\n",
              "    }\n",
              "\n",
              "    .dataframe thead th {\n",
              "        text-align: right;\n",
              "    }\n",
              "</style>\n",
              "<table border=\"1\" class=\"dataframe\">\n",
              "  <thead>\n",
              "    <tr style=\"text-align: right;\">\n",
              "      <th></th>\n",
              "      <th>Age</th>\n",
              "      <th>Height</th>\n",
              "      <th>Weight</th>\n",
              "      <th>Shoe number</th>\n",
              "    </tr>\n",
              "  </thead>\n",
              "  <tbody>\n",
              "    <tr>\n",
              "      <th>count</th>\n",
              "      <td>130.000000</td>\n",
              "      <td>130.000000</td>\n",
              "      <td>130.000000</td>\n",
              "      <td>130.000000</td>\n",
              "    </tr>\n",
              "    <tr>\n",
              "      <th>mean</th>\n",
              "      <td>28.238462</td>\n",
              "      <td>170.684615</td>\n",
              "      <td>70.238462</td>\n",
              "      <td>39.507692</td>\n",
              "    </tr>\n",
              "    <tr>\n",
              "      <th>std</th>\n",
              "      <td>12.387042</td>\n",
              "      <td>11.568491</td>\n",
              "      <td>15.534809</td>\n",
              "      <td>2.973386</td>\n",
              "    </tr>\n",
              "    <tr>\n",
              "      <th>min</th>\n",
              "      <td>3.000000</td>\n",
              "      <td>100.000000</td>\n",
              "      <td>15.000000</td>\n",
              "      <td>24.000000</td>\n",
              "    </tr>\n",
              "    <tr>\n",
              "      <th>25%</th>\n",
              "      <td>21.000000</td>\n",
              "      <td>164.250000</td>\n",
              "      <td>60.000000</td>\n",
              "      <td>38.000000</td>\n",
              "    </tr>\n",
              "    <tr>\n",
              "      <th>50%</th>\n",
              "      <td>23.000000</td>\n",
              "      <td>172.000000</td>\n",
              "      <td>69.500000</td>\n",
              "      <td>40.000000</td>\n",
              "    </tr>\n",
              "    <tr>\n",
              "      <th>75%</th>\n",
              "      <td>29.000000</td>\n",
              "      <td>178.000000</td>\n",
              "      <td>80.000000</td>\n",
              "      <td>41.000000</td>\n",
              "    </tr>\n",
              "    <tr>\n",
              "      <th>max</th>\n",
              "      <td>62.000000</td>\n",
              "      <td>194.000000</td>\n",
              "      <td>130.000000</td>\n",
              "      <td>46.000000</td>\n",
              "    </tr>\n",
              "  </tbody>\n",
              "</table>\n",
              "</div>"
            ],
            "text/plain": [
              "              Age      Height      Weight  Shoe number\n",
              "count  130.000000  130.000000  130.000000   130.000000\n",
              "mean    28.238462  170.684615   70.238462    39.507692\n",
              "std     12.387042   11.568491   15.534809     2.973386\n",
              "min      3.000000  100.000000   15.000000    24.000000\n",
              "25%     21.000000  164.250000   60.000000    38.000000\n",
              "50%     23.000000  172.000000   69.500000    40.000000\n",
              "75%     29.000000  178.000000   80.000000    41.000000\n",
              "max     62.000000  194.000000  130.000000    46.000000"
            ]
          },
          "metadata": {
            "tags": []
          },
          "execution_count": 15
        }
      ]
    },
    {
      "cell_type": "code",
      "metadata": {
        "id": "k9o5IJpesH38",
        "colab": {
          "base_uri": "https://localhost:8080/"
        },
        "outputId": "80010e00-11d0-4fb0-c8ad-161d80c4a7bf"
      },
      "source": [
        "# Our target variable is the weight\n",
        "y = df.pop('Weight').values\n",
        "y"
      ],
      "execution_count": null,
      "outputs": [
        {
          "output_type": "execute_result",
          "data": {
            "text/plain": [
              "array([ 59,  56,  63,  78,  58,  89,  68,  83,  70,  56,  65,  66,  78,\n",
              "        75,  47,  68,  65,  99,  80,  62,  60,  84,  91,  60,  15,  85,\n",
              "        56,  62,  69,  78,  60,  48,  66,  85, 101,  74,  52,  52,  80,\n",
              "        72,  75,  78,  61,  74,  70,  90,  66,  79,  80,  65,  90,  69,\n",
              "        58,  63,  62,  73,  55,  65,  62,  75,  48,  59,  74,  80,  51,\n",
              "        90,  58, 117,  77,  75,  56,  50,  67,  93,  70,  76,  85,  50,\n",
              "        86,  96,  63,  56,  90,  95, 130,  70,  83,  70,  64,  57,  54,\n",
              "        69,  53,  28,  62,  68,  73,  54,  75,  85,  62,  69,  55,  82,\n",
              "        84,  52,  64,  73,  86,  77,  64,  65,  55,  50,  98,  77,  51,\n",
              "        66,  83,  61,  80,  81,  76,  78,  70,  75,  72,  80,  90,  53])"
            ]
          },
          "metadata": {
            "tags": []
          },
          "execution_count": 16
        }
      ]
    },
    {
      "cell_type": "markdown",
      "metadata": {
        "id": "s672neu-sH38"
      },
      "source": [
        "## <mark>2.1. One feature ($d=1$)</mark>\n",
        "\n",
        "We will use 'Height' as the input feature and predict the weight"
      ]
    },
    {
      "cell_type": "code",
      "metadata": {
        "id": "lCapjIG3sH38",
        "colab": {
          "base_uri": "https://localhost:8080/"
        },
        "outputId": "a812ab73-87fb-4276-89fc-72cbb3ef4503"
      },
      "source": [
        "feature_cols = ['Height']\n",
        "X = df.loc[:, feature_cols]\n",
        "X.shape"
      ],
      "execution_count": null,
      "outputs": [
        {
          "output_type": "execute_result",
          "data": {
            "text/plain": [
              "(130, 1)"
            ]
          },
          "metadata": {
            "tags": []
          },
          "execution_count": 17
        }
      ]
    },
    {
      "cell_type": "markdown",
      "metadata": {
        "id": "yqr3gKOJsH39"
      },
      "source": [
        "Write the code for computing the following\n",
        "- compute the regression weights using $\\mathbf{X}$ and $\\mathbf{y}$\n",
        "- compute the prediction\n",
        "- compute the $R^2$ value\n",
        "- plot the regression graph (use appropriate values for the parameters of function <tt>plot_points_regression()</tt>)"
      ]
    },
    {
      "cell_type": "code",
      "metadata": {
        "id": "7JXQ0CrGsH39",
        "colab": {
          "base_uri": "https://localhost:8080/",
          "height": 544
        },
        "outputId": "371fe6e8-e355-4710-badc-8137b362d01f"
      },
      "source": [
        "# START OF YOUR CODE:\n",
        "w = normal_equation_weights(X, y)\n",
        "prediction = normal_equation_prediction(X, w)\n",
        "r_2 = r2_score(y, prediction)\n",
        "print(\"Erro quadrático médio:\", r_2)\n",
        "\n",
        "plot_points_regression(X,\n",
        "                       y,\n",
        "                       title='Predição de peso pela altura',\n",
        "                       xlabel=\"altura(cm)\",\n",
        "                       ylabel='peso(kg)',\n",
        "                       prediction=prediction,\n",
        "                       legend=True,\n",
        "                       r_squared=r_2)\n",
        "\n",
        "# END OF YOUR CODE\n"
      ],
      "execution_count": null,
      "outputs": [
        {
          "output_type": "stream",
          "text": [
            "Erro quadrático médio: 0.421924439081967\n"
          ],
          "name": "stdout"
        },
        {
          "output_type": "display_data",
          "data": {
            "image/png": "[encoded data removed]",
            "text/plain": [
              "<Figure size 576x576 with 1 Axes>"
            ]
          },
          "metadata": {
            "tags": [],
            "needs_background": "light"
          }
        }
      ]
    },
    {
      "cell_type": "markdown",
      "metadata": {
        "id": "IJeg5Vj9sH39"
      },
      "source": [
        "## <mark>2.2 - Two input features ($d=2$)</mark>\n",
        "\n",
        "Now repeat the exercise with using as input the features 'Height' and 'Shoe number'\n",
        "\n",
        "- compute the regression weights using $\\mathbf{X}$ and $\\mathbf{y}$\n",
        "- compute the prediction\n",
        "- compute and print the $R^2$ value\n",
        "\n",
        "Note that our plotting function can not be used. There is no need to do plotting here."
      ]
    },
    {
      "cell_type": "code",
      "metadata": {
        "id": "hd5wahwgsH3-",
        "colab": {
          "base_uri": "https://localhost:8080/"
        },
        "outputId": "4249514f-8bf7-4b8c-828f-c47002b13587"
      },
      "source": [
        "# START OF YOUR CODE:\n",
        "feature_cols = ['Height', 'Shoe number']\n",
        "X = df.loc[:, feature_cols]\n",
        "w = normal_equation_weights(X, y)\n",
        "prediction = normal_equation_prediction(X, w)\n",
        "r_2 = r2_score(y, prediction)\n",
        "print(\"Erro quadrático médio:\", r_2)\n",
        "# END OF YOUR CODE\n"
      ],
      "execution_count": null,
      "outputs": [
        {
          "output_type": "stream",
          "text": [
            "Erro quadrático médio: 0.45381183096658595\n"
          ],
          "name": "stdout"
        }
      ]
    },
    {
      "cell_type": "markdown",
      "metadata": {
        "id": "IdR8hLcTsH3-"
      },
      "source": [
        "## 2.3 - <mark>Three input features ($d=3$)</mark>\n",
        "\n",
        "Now try with three features. There is no need to do plotting here.\n",
        "- compute the regression weights using $\\mathbf{X}$ and $\\mathbf{y}$\n",
        "- compute the prediction\n",
        "- compute and print the $R^2$ value"
      ]
    },
    {
      "cell_type": "code",
      "metadata": {
        "id": "XHYhP8q-sH3-",
        "colab": {
          "base_uri": "https://localhost:8080/"
        },
        "outputId": "789551fa-c74f-4b13-f467-f25188093853"
      },
      "source": [
        "# START OF YOUR CODE:\n",
        "feature_cols = ['Height', 'Shoe number', 'Age' ]\n",
        "X = df.loc[:, feature_cols]\n",
        "w = normal_equation_weights(X, y)\n",
        "prediction = normal_equation_prediction(X, w)\n",
        "r_2 = r2_score(y, prediction)\n",
        "print(\"Erro quadrático médio:\", r_2)\n",
        "# END OF YOUR CODE\n"
      ],
      "execution_count": null,
      "outputs": [
        {
          "output_type": "stream",
          "text": [
            "Erro quadrático médio: 0.4776499498669615\n"
          ],
          "name": "stdout"
        }
      ]
    },
    {
      "cell_type": "markdown",
      "metadata": {
        "id": "FpZdTYkVsH3_"
      },
      "source": [
        "## <mark>2.4 - Your comments</mark>\n",
        "\n",
        "Did you observe anything interesting with varying values of $d$ ? Comment about it.\n",
        "\n",
        "YOUR COMMENT BELOW:\n",
        "\n",
        "===> O  errro quadrático aumentou com o aumento das hispóteses. O que evidencia uma discussão desenvolvida em aula de como, mesmo com um conjunto mais diversificado de hipóteses não necessariamente o algorimto ficaria melhor, principalmente na regressão linear.\n",
        "\n",
        "\n"
      ]
    }
  ]
}